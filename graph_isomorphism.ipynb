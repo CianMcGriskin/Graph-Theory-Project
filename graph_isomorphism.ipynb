{
 "cells": [
  {
   "cell_type": "markdown",
   "id": "04080794",
   "metadata": {},
   "source": [
    "# Graph Isomorphism\n",
    "To explain what graph Isomorphism is we first have to understand what is meant by the terms vertex and degree in relation to graphs along with a bijection in a mathematical sense.\n",
    "<br>\n",
    "<details open>\n",
    "    <summary><font size=3><span style=\"color:blue\">Vertex</span></font></summary>\n",
    "In simplistic terms each graph representation has cirlces and lines connecting to other circles.\n",
    "A vertex is what we identify as a circle.\n",
    "<img src = \"https://upload.wikimedia.org/wikipedia/commons/2/2f/Small_Network.png\"/>\n",
    "</details>\n",
    "<details open>\n",
    "    <summary><font size=3><span style=\"color:blue\">Degree</span></font></summary>\n",
    "The degree (or valency) of a vertex of a graph is the number of edges (Displayed as lines) that are connected to the vertex\n",
    "<img src = \"https://upload.wikimedia.org/wikipedia/commons/thumb/d/d6/UndirectedDegrees_%28Loop%29.svg/1920px-UndirectedDegrees_%28Loop%29.svg.png\" height=\"400px\" width=\"400px\">\n",
    "</details>\n",
    "<details open>\n",
    "    <summary><font size=3><span style=\"color:blue\">Bijection</span></font></summary>\n",
    "A Bijection is a one-to-one mapping between two sets. In other words, it's a pairing of elements between two sets such that each element in one set is paired with exactly one element in the other set, and vice versa.\n",
    "<img src = \"https://d138zd1ktt9iqe.cloudfront.net/media/seo_landing_files/bijective-function-1629606712.png\" height=\"400px\" width=\"400px\">\n",
    "</details>\n",
    "Now that we know what a vertex and degree is, we can move onto what exactly is graph isopmorphism?\n",
    "Graph isomorphism can be described as a graph in which a single graph can have more than one form. That means two different graphs can have the same number of edges, vertices, and same edges connectivity.[1]\n",
    "<img src = \"https://static.javatpoint.com/tutorial/dms/images/graph-isomorphism-in-discrete-mathematics.png\" height=\"400px\" width=\"400px\">\n",
    "In this example we see <span style=\"color:blue\">blue</span> has 3 degrees, <span style=\"color:green\">green</span> has 2 degrees,\n",
    "<span style=\"color:orange\">orange</span> has 3 degrees and <span style=\"color:darkblue\">dark blue</span> has 2 degrees in each diagram meaning all of these graphs are isomorphism graphs.\n",
    "Now that we have a  basic understanding of what graph isomorphism is we can move onto the isomorphism problem.\n",
    "<img src = \"https://i.imgur.com/ivf6nDq.png\" height=\"400px\" width=\"400px\">\n",
    "We can see how bijective functions play a role in graph isomorphism using this example\n",
    "\n"
   ]
  },
  {
   "cell_type": "code",
   "execution_count": null,
   "id": "7bf2dd50",
   "metadata": {},
   "outputs": [],
   "source": [
    "https://www.javatpoint.com/graph-isomorphism-in-discrete-mathematics[1]"
   ]
  }
 ],
 "metadata": {
  "kernelspec": {
   "display_name": "Python 3 (ipykernel)",
   "language": "python",
   "name": "python3"
  },
  "language_info": {
   "codemirror_mode": {
    "name": "ipython",
    "version": 3
   },
   "file_extension": ".py",
   "mimetype": "text/x-python",
   "name": "python",
   "nbconvert_exporter": "python",
   "pygments_lexer": "ipython3",
   "version": "3.9.16"
  }
 },
 "nbformat": 4,
 "nbformat_minor": 5
}
