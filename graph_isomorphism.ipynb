{
 "cells": [
  {
   "cell_type": "markdown",
   "id": "04080794",
   "metadata": {},
   "source": [
    "# Graph Isomorphism\n",
    "To explain what graph Isomorphism is we first have to understand what is meant by the terms vertex and degree in relation to graphs along with a bijection in a mathematical sense.\n",
    "<br>\n",
    "<details open>\n",
    "    <summary><font size=3><span style=\"color:blue\">Vertex</span></font></summary>\n",
    "In simplistic terms each graph representation has cirlces and lines connecting to other circles.\n",
    "A vertex is what we identify as a circle.\n",
    "<img src = \"https://upload.wikimedia.org/wikipedia/commons/2/2f/Small_Network.png\"/>\n",
    "</details>\n",
    "<details open>\n",
    "    <summary><font size=3><span style=\"color:blue\">Degree</span></font></summary>\n",
    "The degree (or valency) of a vertex of a graph is the number of edges (Displayed as lines) that are connected to the vertex\n",
    "<img src = \"https://upload.wikimedia.org/wikipedia/commons/thumb/d/d6/UndirectedDegrees_%28Loop%29.svg/1920px-UndirectedDegrees_%28Loop%29.svg.png\" height=\"400px\" width=\"400px\">\n",
    "</details>\n",
    "<details open>\n",
    "    <summary><font size=3><span style=\"color:blue\">Bijection</span></font></summary>\n",
    "A Bijection is a one-to-one mapping between two sets. In other words, it's a pairing of elements between two sets such that each element in one set is paired with exactly one element in the other set, and vice versa.\n",
    "<img src = \"https://d138zd1ktt9iqe.cloudfront.net/media/seo_landing_files/bijective-function-1629606712.png\" height=\"400px\" width=\"400px\">\n",
    "</details>\n",
    "Now that we know what a vertex and degree is, we can move onto what exactly is graph isopmorphism?\n",
    "Graph isomorphism can be described as a graph in which a single graph can have more than one form. That means two different graphs can have the same number of edges, vertices, and same edges connectivity.[1]\n",
    "<img src = \"https://static.javatpoint.com/tutorial/dms/images/graph-isomorphism-in-discrete-mathematics.png\" height=\"400px\" width=\"400px\">\n",
    "In this example we see <span style=\"color:blue\">blue</span> has 3 degrees, <span style=\"color:green\">green</span> has 2 degrees,\n",
    "<span style=\"color:orange\">orange</span> has 3 degrees and <span style=\"color:darkblue\">dark blue</span> has 2 degrees in each diagram meaning all of these graphs are isomorphism graphs.\n",
    "Now that we have a  basic understanding of what graph isomorphism is we can move onto the isomorphism problem.\n",
    "<img src = \"https://i.imgur.com/ivf6nDq.png\" height=\"400px\" width=\"400px\">\n",
    "We can see how bijective functions play a role in graph isomorphism using this example.\n",
    "\n",
    "\n",
    "\n",
    "# The Graph Isomorphism Problem\n",
    "What exactly is the graph isomorphism problem?\n",
    "Netowrks are everyhwere, We come across them in every day like such as on the internet, social media, transport, etc. Mathematically a network is an example of a graph, a collection of vertices(plural for vertex) also known as nodes. these nodes/verices are connected by degrees also known as links/edges. The problem is that the same graph can be displayed in different forms such as a geographical bus netowrk display [Fgiure One] and a user friendly, more readable bus network display [Figure Two]. This prompts the question as to how hard is it if two apparent different graphs are truely the same graph which is the graph isomorphism problem. [2]\n",
    "\n",
    "<details closed>\n",
    "    <summary><font size=3><span style=\"color:blue\">Figure One [3]</span></font></summary>\n",
    "<img src = \"https://www.transportforireland.ie/wp-content/uploads/2022/05/Galway_Leap_Card_A4_Map_May2022_25.jpg\">\n",
    "</details>\n",
    "\n",
    "<details closed>\n",
    "    <summary><font size=3><span style=\"color:blue\">Figure Two [4]</span></font></summary>\n",
    "<img src = \"https://i.imgur.com/Y9aE4Kt.png\">\n",
    "</details>\n",
    "These images of the galway bus network shows that two graphs displayed differnetly are actually the same(in terms of the 404 network) and are actually isomorphic as you cant match each vertx and degree and still preserve is connectivity. (which vertex is connected to which)[2]\n",
    "\n",
    "The graph isomorphism isn't an issue of detecting whether two graphs are isomorphic, this can be achieved through already made algorithms and methods, rather it it whether there is an algorithm to complete the detection of graph isomorphism in a faster way than what is already written.\n",
    "\n",
    "Before we delve into how graph isomorphism is calculated in python we first have to understand exactly what we have to store and how we store it in python.\n",
    "So like any application there are different test cases and different forms of use of a graph. If every edge is a two way connection than that graph is **undirected**. However if the graph only allows connection in one direction this graph is **directed**. <details closed>\n",
    "    <summary><font size=3><span style=\"color:blue\">Figure Three [5]</span></font></summary>\n",
    "<img src = \"https://s3.stackabuse.com/media/articles/graphs-in-python-representing-graphs-in-code-1.png\">\n",
    "</details>\n",
    "For our example of the galway bus network we will assume the graph is undirected as theoritically travelling between the bus stops flows in both directions.\n",
    "There are also graphs that are <b>connected</b> meaning that any vertex can be accessed by any other vertex, and <b>unconnected</b> graphs meaning that not all vertices are linked in an accessible way.\n",
    "\n",
    "<details closed>\n",
    "    <summary><font size=3><span style=\"color:blue\">Figure Four [5]</span></font></summary>\n",
    "<img src = \"https://s3.stackabuse.com/media/articles/graphs-in-python-representing-graphs-in-code-2.png\">\n",
    "</details>\n",
    "\n",
    "In our example the graph will be connected as all vertices are accessible from each other.\n",
    "The final thing that may alter the way our graph works is weighted graphs, this adds a cost to traversing between different vertices - giving a cost to traversing a graph. Weighted graphs are used widely in navigation to find the most efficient way to naviagte, however we will not be using them in this example as the bus stops are pre detirmined.\n",
    "<details closed>\n",
    "    <summary><font size=3><span style=\"color:blue\">Figure Five [5]</span></font></summary>\n",
    "<img src = \"https://s3.stackabuse.com/media/articles/graphs-in-python-representing-graphs-in-code-3.png\">\n",
    "</details>\n",
    "\n",
    "# How Is Graph Isomorphism Calculated?\n",
    "\n"
   ]
  },
  {
   "cell_type": "markdown",
   "id": "d6adc808",
   "metadata": {},
   "source": [
    "https://www.javatpoint.com/graph-isomorphism-in-discrete-mathematics[1]\n",
    "https://plus.maths.org/content/maths-minute-graph-isomorphism-problem[2]\n",
    "https://www.transportforireland.ie/getting-around/network-maps/galway-city-bus-services[3]\n",
    "https://moovitapp.com/ireland-502/lines/404/228873/1474178/en?ref=2&poiType=line&customerId=4908&af_sub8=%2Findex%2Fen%2Fpublic_transit-line-404-Ireland-502-851897-228873-1[4]\n",
    "https://stackabuse.com/courses/graphs-in-python-theory-and-implementation/lessons/representing-graphs-in-code[5]"
   ]
  },
  {
   "cell_type": "code",
   "execution_count": 5,
   "id": "10aca723",
   "metadata": {},
   "outputs": [
    {
     "name": "stdout",
     "output_type": "stream",
     "text": [
      "<built-in function array>\n"
     ]
    }
   ],
   "source": [
    "import numpy as np\n",
    "my_array = np.array([1, 2, 3, 4, 5])\n",
    "print(np.array)"
   ]
  },
  {
   "cell_type": "code",
   "execution_count": null,
   "id": "e5bd7d20",
   "metadata": {},
   "outputs": [],
   "source": []
  }
 ],
 "metadata": {
  "kernelspec": {
   "display_name": "Python 3 (ipykernel)",
   "language": "python",
   "name": "python3"
  },
  "language_info": {
   "codemirror_mode": {
    "name": "ipython",
    "version": 3
   },
   "file_extension": ".py",
   "mimetype": "text/x-python",
   "name": "python",
   "nbconvert_exporter": "python",
   "pygments_lexer": "ipython3",
   "version": "3.10.9"
  }
 },
 "nbformat": 4,
 "nbformat_minor": 5
}
