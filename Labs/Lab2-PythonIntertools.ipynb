{
 "cells": [
  {
   "cell_type": "code",
   "execution_count": 5,
   "id": "c8704f07",
   "metadata": {},
   "outputs": [
    {
     "name": "stdout",
     "output_type": "stream",
     "text": [
      "0\n",
      "1\n",
      "2\n",
      "3\n",
      "4\n",
      "1\n",
      "2\n",
      "3\n",
      "1\n",
      "2\n",
      "3\n",
      "hello\n",
      "hello\n",
      "hello\n",
      "1\n",
      "2\n",
      "3\n",
      "a\n",
      "b\n",
      "c\n",
      "(1, 'a')\n",
      "(2, 'b')\n",
      "(3, '-')\n",
      "3\n",
      "4\n"
     ]
    },
    {
     "data": {
      "text/plain": [
       "[5, 7, 9]"
      ]
     },
     "execution_count": 5,
     "metadata": {},
     "output_type": "execute_result"
    }
   ],
   "source": [
    "# Importing intertools\n",
    "import itertools\n",
    "\n",
    "# Count Method\n",
    "# generates an infinite sequence of numbers, starting from a specified value and incrementing by a specified number:\n",
    "for i in itertools.count(0, 1):\n",
    "    if i == 5:\n",
    "        break\n",
    "    print(i)\n",
    "# This for loop prints 0 - 4\n",
    "\n",
    "# Cycle Method\n",
    "# cycle through a sequence indefinitely\n",
    "sequence = [1, 2, 3]\n",
    "for i, val in enumerate(itertools.cycle(sequence)):\n",
    "    if i == 6:\n",
    "        break\n",
    "    print(val)\n",
    "# This loop returns 1,2,3 over and over.\n",
    "\n",
    "# Repeat Method\n",
    "# Repeats a single value a specified number of times\n",
    "for val in itertools.repeat('hello', 3):\n",
    "    print(val)\n",
    "# Prints hello 3 times\n",
    "\n",
    "# Chain Method\n",
    "# Chain combines two or more sequences into a single sequence\n",
    "sequence1 = [1, 2, 3]\n",
    "sequence2 = ['a', 'b', 'c']\n",
    "for val in itertools.chain(sequence1, sequence2):\n",
    "    print(val)\n",
    "    \n",
    "# Zip_longest Method\n",
    "# Zip_longest combines two or more sequences of different lengths, filling in any missing values with a specified fill value.\n",
    "sequence1 = [1, 2, 3]\n",
    "sequence2 = ['a', 'b']\n",
    "for val in itertools.zip_longest(sequence1, sequence2, fillvalue='-'):\n",
    "    print(val)\n",
    "    \n",
    "# Islice Method\n",
    "# Islice creates a slice of an existing sequence\n",
    "sequence = [1, 2, 3, 4, 5]\n",
    "for val in itertools.islice(sequence, 2, 4):\n",
    "    print(val)\n",
    "\n",
    "# Zip Method\n",
    "# Great for mapping 2 sets together, like a bijection\n",
    "list(zip([1, 2, 3], ['a', 'b', 'c']))\n",
    "list(map(len, ['abc', 'de', 'fghi']))\n",
    "list(map(sum, zip([1, 2, 3], [4, 5, 6])))"
   ]
  },
  {
   "cell_type": "code",
   "execution_count": null,
   "id": "031b9772",
   "metadata": {},
   "outputs": [],
   "source": []
  }
 ],
 "metadata": {
  "kernelspec": {
   "display_name": "Python 3 (ipykernel)",
   "language": "python",
   "name": "python3"
  },
  "language_info": {
   "codemirror_mode": {
    "name": "ipython",
    "version": 3
   },
   "file_extension": ".py",
   "mimetype": "text/x-python",
   "name": "python",
   "nbconvert_exporter": "python",
   "pygments_lexer": "ipython3",
   "version": "3.10.10"
  }
 },
 "nbformat": 4,
 "nbformat_minor": 5
}
